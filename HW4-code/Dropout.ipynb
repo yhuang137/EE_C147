{
 "cells": [
  {
   "cell_type": "markdown",
   "metadata": {},
   "source": [
    "# Dropout\n",
    "\n",
    "In this notebook, you will implement dropout.  Then we will ask you to train a network with batchnorm and dropout, and acheive over 55% accuracy on CIFAR-10.\n",
    "\n",
    "CS231n has built a solid API for building these modular frameworks and training them, and we will use their very well implemented framework as opposed to \"reinventing the wheel.\"  This includes using their Solver, various utility functions, and their layer structure.  This also includes nndl.fc_net, nndl.layers, and nndl.layer_utils.  As in prior assignments, we thank Serena Yeung & Justin Johnson for permission to use code written for the CS 231n class (cs231n.stanford.edu).  "
   ]
  },
  {
   "cell_type": "code",
   "execution_count": 1,
   "metadata": {},
   "outputs": [],
   "source": [
    "## Import and setups\n",
    "\n",
    "import time\n",
    "import numpy as np\n",
    "import matplotlib.pyplot as plt\n",
    "from nndl.fc_net import *\n",
    "from nndl.layers import *\n",
    "from cs231n.data_utils import get_CIFAR10_data\n",
    "from cs231n.gradient_check import eval_numerical_gradient, eval_numerical_gradient_array\n",
    "from cs231n.solver import Solver\n",
    "\n",
    "%matplotlib inline\n",
    "plt.rcParams['figure.figsize'] = (10.0, 8.0) # set default size of plots\n",
    "plt.rcParams['image.interpolation'] = 'nearest'\n",
    "plt.rcParams['image.cmap'] = 'gray'\n",
    "\n",
    "# for auto-reloading external modules\n",
    "# see http://stackoverflow.com/questions/1907993/autoreload-of-modules-in-ipython\n",
    "%load_ext autoreload\n",
    "%autoreload 2\n",
    "\n",
    "def rel_error(x, y):\n",
    "    \"\"\" returns relative error \"\"\"\n",
    "    return np.max(np.abs(x - y) / (np.maximum(1e-8, np.abs(x) + np.abs(y))))"
   ]
  },
  {
   "cell_type": "code",
   "execution_count": 2,
   "metadata": {},
   "outputs": [
    {
     "name": "stdout",
     "output_type": "stream",
     "text": [
      "X_train: (49000, 3, 32, 32) \n",
      "y_train: (49000,) \n",
      "X_val: (1000, 3, 32, 32) \n",
      "y_val: (1000,) \n",
      "X_test: (1000, 3, 32, 32) \n",
      "y_test: (1000,) \n"
     ]
    }
   ],
   "source": [
    "# Load the (preprocessed) CIFAR10 data.\n",
    "\n",
    "data = get_CIFAR10_data()\n",
    "for k in data.keys():\n",
    "    print('{}: {} '.format(k, data[k].shape))"
   ]
  },
  {
   "cell_type": "markdown",
   "metadata": {},
   "source": [
    "## Dropout forward pass\n",
    "\n",
    "Implement the training and test time dropout forward pass, `dropout_forward`, in `nndl/layers.py`. After that, test your implementation by running the following cell."
   ]
  },
  {
   "cell_type": "code",
   "execution_count": 3,
   "metadata": {},
   "outputs": [
    {
     "name": "stdout",
     "output_type": "stream",
     "text": [
      "Running tests with p =  0.3\n",
      "Mean of input:  9.997540667919354\n",
      "Mean of train-time output:  9.962921928039064\n",
      "Mean of test-time output:  9.997540667919354\n",
      "Fraction of train-time output set to zero:  0.701056\n",
      "Fraction of test-time output set to zero:  0.0\n",
      "Running tests with p =  0.6\n",
      "Mean of input:  9.997540667919354\n",
      "Mean of train-time output:  10.006047736397958\n",
      "Mean of test-time output:  9.997540667919354\n",
      "Fraction of train-time output set to zero:  0.399548\n",
      "Fraction of test-time output set to zero:  0.0\n",
      "Running tests with p =  0.75\n",
      "Mean of input:  9.997540667919354\n",
      "Mean of train-time output:  9.995618938265718\n",
      "Mean of test-time output:  9.997540667919354\n",
      "Fraction of train-time output set to zero:  0.250084\n",
      "Fraction of test-time output set to zero:  0.0\n"
     ]
    }
   ],
   "source": [
    "x = np.random.randn(500, 500) + 10\n",
    "\n",
    "for p in [0.3, 0.6, 0.75]:\n",
    "    out, _ = dropout_forward(x, {'mode': 'train', 'p': p})\n",
    "    out_test, _ = dropout_forward(x, {'mode': 'test', 'p': p})\n",
    "\n",
    "    print('Running tests with p = ', p)\n",
    "    print('Mean of input: ', x.mean())\n",
    "    print('Mean of train-time output: ', out.mean())\n",
    "    print('Mean of test-time output: ', out_test.mean())\n",
    "    print('Fraction of train-time output set to zero: ', (out == 0).mean())\n",
    "    print('Fraction of test-time output set to zero: ', (out_test == 0).mean())"
   ]
  },
  {
   "cell_type": "markdown",
   "metadata": {},
   "source": [
    "## Dropout backward pass\n",
    "\n",
    "Implement the backward pass, `dropout_backward`, in `nndl/layers.py`.  After that, test your gradients by running the following cell:"
   ]
  },
  {
   "cell_type": "code",
   "execution_count": 4,
   "metadata": {},
   "outputs": [
    {
     "name": "stdout",
     "output_type": "stream",
     "text": [
      "dx relative error:  5.445610595488085e-11\n"
     ]
    }
   ],
   "source": [
    "x = np.random.randn(10, 10) + 10\n",
    "dout = np.random.randn(*x.shape)\n",
    "\n",
    "dropout_param = {'mode': 'train', 'p': 0.8, 'seed': 123}\n",
    "out, cache = dropout_forward(x, dropout_param)\n",
    "dx = dropout_backward(dout, cache)\n",
    "dx_num = eval_numerical_gradient_array(lambda xx: dropout_forward(xx, dropout_param)[0], x, dout)\n",
    "\n",
    "print('dx relative error: ', rel_error(dx, dx_num))"
   ]
  },
  {
   "cell_type": "markdown",
   "metadata": {},
   "source": [
    "## Implement a fully connected neural network with dropout layers\n",
    "\n",
    "Modify the `FullyConnectedNet()` class in `nndl/fc_net.py` to incorporate dropout.  A dropout layer should be incorporated after every ReLU layer.  Concretely, there shouldn't be a dropout at the output layer since there is no ReLU at the output layer. You will need to modify the class in the following areas:\n",
    "\n",
    "(1) In the forward pass, you will need to incorporate a dropout layer after every relu layer.\n",
    "\n",
    "(2) In the backward pass, you will need to incorporate a dropout backward pass layer.\n",
    "\n",
    "Check your implementation by running the following code.  Our W1 gradient relative error is on the order of 1e-6 (the largest of all the relative errors)."
   ]
  },
  {
   "cell_type": "code",
   "execution_count": 5,
   "metadata": {},
   "outputs": [
    {
     "name": "stdout",
     "output_type": "stream",
     "text": [
      "Running check with dropout =  0.5\n",
      "Initial loss:  2.309771209610118\n",
      "W1 relative error: 2.694274363733021e-07\n",
      "W2 relative error: 7.439245954038612e-08\n",
      "W3 relative error: 1.9103710719911858e-08\n",
      "b1 relative error: 4.112891413893947e-09\n",
      "b2 relative error: 5.756221614739192e-10\n",
      "b3 relative error: 1.3204470857080166e-10\n",
      "\n",
      "\n",
      "Running check with dropout =  0.75\n",
      "Initial loss:  2.306133548427975\n",
      "W1 relative error: 8.729860880753755e-08\n",
      "W2 relative error: 2.977730801730476e-07\n",
      "W3 relative error: 1.8832781376895886e-08\n",
      "b1 relative error: 5.3794835291217785e-08\n",
      "b2 relative error: 3.6529948054257565e-09\n",
      "b3 relative error: 9.987242764516995e-11\n",
      "\n",
      "\n",
      "Running check with dropout =  1.0\n",
      "Initial loss:  2.3053332250963194\n",
      "W1 relative error: 1.274409601207746e-06\n",
      "W2 relative error: 4.6787432938161757e-07\n",
      "W3 relative error: 4.331673927857074e-08\n",
      "b1 relative error: 4.085353894378552e-08\n",
      "b2 relative error: 1.9513421151754587e-09\n",
      "b3 relative error: 9.387142701440351e-11\n",
      "\n",
      "\n"
     ]
    }
   ],
   "source": [
    "N, D, H1, H2, C = 2, 15, 20, 30, 10\n",
    "X = np.random.randn(N, D)\n",
    "y = np.random.randint(C, size=(N,))\n",
    "\n",
    "for dropout in [0.5, 0.75, 1.0]:\n",
    "    print('Running check with dropout = ', dropout)\n",
    "    model = FullyConnectedNet([H1, H2], input_dim=D, num_classes=C,\n",
    "                              weight_scale=5e-2, dtype=np.float64,\n",
    "                              dropout=dropout, seed=123)\n",
    "\n",
    "    loss, grads = model.loss(X, y)\n",
    "    print('Initial loss: ', loss)\n",
    "\n",
    "    for name in sorted(grads):\n",
    "        f = lambda _: model.loss(X, y)[0]\n",
    "        grad_num = eval_numerical_gradient(f, model.params[name], verbose=False, h=1e-5)\n",
    "        print('{} relative error: {}'.format(name, rel_error(grad_num, grads[name])))\n",
    "    print('\\n')"
   ]
  },
  {
   "cell_type": "markdown",
   "metadata": {},
   "source": [
    "## Dropout as a regularizer\n",
    "\n",
    "In class, we claimed that dropout acts as a regularizer by effectively bagging.  To check this, we will train two small networks, one with dropout and one without dropout.  "
   ]
  },
  {
   "cell_type": "code",
   "execution_count": 6,
   "metadata": {},
   "outputs": [
    {
     "name": "stdout",
     "output_type": "stream",
     "text": [
      "(Iteration 1 / 125) loss: 2.296919\n",
      "(Epoch 0 / 25) train acc: 0.156000; val_acc: 0.129000\n",
      "(Epoch 1 / 25) train acc: 0.194000; val_acc: 0.137000\n",
      "(Epoch 2 / 25) train acc: 0.214000; val_acc: 0.161000\n",
      "(Epoch 3 / 25) train acc: 0.276000; val_acc: 0.206000\n",
      "(Epoch 4 / 25) train acc: 0.320000; val_acc: 0.250000\n",
      "(Epoch 5 / 25) train acc: 0.344000; val_acc: 0.273000\n",
      "(Epoch 6 / 25) train acc: 0.346000; val_acc: 0.271000\n",
      "(Epoch 7 / 25) train acc: 0.360000; val_acc: 0.285000\n",
      "(Epoch 8 / 25) train acc: 0.380000; val_acc: 0.288000\n",
      "(Epoch 9 / 25) train acc: 0.436000; val_acc: 0.298000\n",
      "(Epoch 10 / 25) train acc: 0.428000; val_acc: 0.305000\n",
      "(Epoch 11 / 25) train acc: 0.460000; val_acc: 0.308000\n",
      "(Epoch 12 / 25) train acc: 0.492000; val_acc: 0.307000\n",
      "(Epoch 13 / 25) train acc: 0.510000; val_acc: 0.306000\n",
      "(Epoch 14 / 25) train acc: 0.540000; val_acc: 0.305000\n",
      "(Epoch 15 / 25) train acc: 0.544000; val_acc: 0.321000\n",
      "(Epoch 16 / 25) train acc: 0.590000; val_acc: 0.311000\n",
      "(Epoch 17 / 25) train acc: 0.614000; val_acc: 0.303000\n",
      "(Epoch 18 / 25) train acc: 0.646000; val_acc: 0.315000\n",
      "(Epoch 19 / 25) train acc: 0.662000; val_acc: 0.336000\n",
      "(Epoch 20 / 25) train acc: 0.690000; val_acc: 0.330000\n",
      "(Iteration 101 / 125) loss: 1.252756\n",
      "(Epoch 21 / 25) train acc: 0.716000; val_acc: 0.301000\n",
      "(Epoch 22 / 25) train acc: 0.696000; val_acc: 0.336000\n",
      "(Epoch 23 / 25) train acc: 0.744000; val_acc: 0.330000\n",
      "(Epoch 24 / 25) train acc: 0.772000; val_acc: 0.316000\n",
      "(Epoch 25 / 25) train acc: 0.766000; val_acc: 0.338000\n",
      "(Iteration 1 / 125) loss: 2.301009\n",
      "(Epoch 0 / 25) train acc: 0.218000; val_acc: 0.145000\n",
      "(Epoch 1 / 25) train acc: 0.288000; val_acc: 0.221000\n",
      "(Epoch 2 / 25) train acc: 0.262000; val_acc: 0.197000\n",
      "(Epoch 3 / 25) train acc: 0.350000; val_acc: 0.269000\n",
      "(Epoch 4 / 25) train acc: 0.346000; val_acc: 0.253000\n",
      "(Epoch 5 / 25) train acc: 0.392000; val_acc: 0.253000\n",
      "(Epoch 6 / 25) train acc: 0.448000; val_acc: 0.300000\n",
      "(Epoch 7 / 25) train acc: 0.450000; val_acc: 0.305000\n",
      "(Epoch 8 / 25) train acc: 0.546000; val_acc: 0.314000\n",
      "(Epoch 9 / 25) train acc: 0.560000; val_acc: 0.316000\n",
      "(Epoch 10 / 25) train acc: 0.614000; val_acc: 0.324000\n",
      "(Epoch 11 / 25) train acc: 0.658000; val_acc: 0.306000\n",
      "(Epoch 12 / 25) train acc: 0.708000; val_acc: 0.313000\n",
      "(Epoch 13 / 25) train acc: 0.770000; val_acc: 0.312000\n",
      "(Epoch 14 / 25) train acc: 0.798000; val_acc: 0.315000\n",
      "(Epoch 15 / 25) train acc: 0.850000; val_acc: 0.301000\n",
      "(Epoch 16 / 25) train acc: 0.860000; val_acc: 0.336000\n",
      "(Epoch 17 / 25) train acc: 0.904000; val_acc: 0.295000\n",
      "(Epoch 18 / 25) train acc: 0.922000; val_acc: 0.301000\n",
      "(Epoch 19 / 25) train acc: 0.940000; val_acc: 0.308000\n",
      "(Epoch 20 / 25) train acc: 0.960000; val_acc: 0.288000\n",
      "(Iteration 101 / 125) loss: 0.149026\n",
      "(Epoch 21 / 25) train acc: 0.958000; val_acc: 0.292000\n",
      "(Epoch 22 / 25) train acc: 0.960000; val_acc: 0.283000\n",
      "(Epoch 23 / 25) train acc: 0.980000; val_acc: 0.301000\n",
      "(Epoch 24 / 25) train acc: 0.982000; val_acc: 0.283000\n",
      "(Epoch 25 / 25) train acc: 0.982000; val_acc: 0.284000\n"
     ]
    }
   ],
   "source": [
    "# Train two identical nets, one with dropout and one without\n",
    "\n",
    "num_train = 500\n",
    "small_data = {\n",
    "    'X_train': data['X_train'][:num_train],\n",
    "    'y_train': data['y_train'][:num_train],\n",
    "    'X_val': data['X_val'],\n",
    "    'y_val': data['y_val'],\n",
    "}\n",
    "\n",
    "solvers = {}\n",
    "dropout_choices = [0.6, 1.0]\n",
    "for dropout in dropout_choices:\n",
    "    model = FullyConnectedNet([100, 100, 100], dropout=dropout)\n",
    "\n",
    "    solver = Solver(model, small_data,\n",
    "                    num_epochs=25, batch_size=100,\n",
    "                    update_rule='adam',\n",
    "                    optim_config={\n",
    "                      'learning_rate': 5e-4,\n",
    "                    },\n",
    "                    verbose=True, print_every=100)\n",
    "    solver.train()\n",
    "    solvers[dropout] = solver"
   ]
  },
  {
   "cell_type": "code",
   "execution_count": 7,
   "metadata": {},
   "outputs": [
    {
     "data": {
      "image/png": "[encoded data removed]",
      "text/plain": [
       "<Figure size 1080x1080 with 2 Axes>"
      ]
     },
     "metadata": {
      "needs_background": "light"
     },
     "output_type": "display_data"
    }
   ],
   "source": [
    "# Plot train and validation accuracies of the two models\n",
    "\n",
    "train_accs = []\n",
    "val_accs = []\n",
    "for dropout in dropout_choices:\n",
    "    solver = solvers[dropout]\n",
    "    train_accs.append(solver.train_acc_history[-1])\n",
    "    val_accs.append(solver.val_acc_history[-1])\n",
    "\n",
    "plt.subplot(3, 1, 1)\n",
    "for dropout in dropout_choices:\n",
    "    plt.plot(solvers[dropout].train_acc_history, 'o', label='%.2f dropout' % dropout)\n",
    "plt.title('Train accuracy')\n",
    "plt.xlabel('Epoch')\n",
    "plt.ylabel('Accuracy')\n",
    "plt.legend(ncol=2, loc='lower right')\n",
    "  \n",
    "plt.subplot(3, 1, 2)\n",
    "for dropout in dropout_choices:\n",
    "    plt.plot(solvers[dropout].val_acc_history, 'o', label='%.2f dropout' % dropout)\n",
    "plt.title('Val accuracy')\n",
    "plt.xlabel('Epoch')\n",
    "plt.ylabel('Accuracy')\n",
    "plt.legend(ncol=2, loc='lower right')\n",
    "\n",
    "plt.gcf().set_size_inches(15, 15)\n",
    "plt.show()"
   ]
  },
  {
   "cell_type": "markdown",
   "metadata": {},
   "source": [
    "## Question\n",
    "\n",
    "Based off the results of this experiment, is dropout performing regularization?  Explain your answer."
   ]
  },
  {
   "cell_type": "markdown",
   "metadata": {},
   "source": [
    "## Answer:\n",
    "Regularizations are used to improve model generalization, which means that is inteded to reduce the test error but not its training error. From the graph, we can absorb that for validation accuracy, 0.6-dropout has similar accuarvy to 1.0 dropout. For epoch larger than 15, 0.6-dropout has better accuracy. For training accuracy, 1-dropout overfitting the training data."
   ]
  },
  {
   "cell_type": "markdown",
   "metadata": {},
   "source": [
    "##### Final part of the assignment\n",
    "\n",
    "Get over 55% validation accuracy on CIFAR-10 by using the layers you have implemented.  You will be graded according to the following equation:\n",
    "\n",
    "min(floor((X - 32%)) / 23%, 1) \n",
    "where if you get 55% or higher validation accuracy, you get full points."
   ]
  },
  {
   "cell_type": "code",
   "execution_count": 8,
   "metadata": {
    "scrolled": false
   },
   "outputs": [
    {
     "name": "stdout",
     "output_type": "stream",
     "text": [
      "Validation set accuracy: 0.564\n",
      "Test set accuracy: 0.55\n"
     ]
    }
   ],
   "source": [
    "# ================================================================ #\n",
    "# YOUR CODE HERE:\n",
    "#   Implement a FC-net that achieves at least 55% validation accuracy\n",
    "#   on CIFAR-10.\n",
    "# ================================================================ #\n",
    "hidden_dims = [200, 200, 200, 200]\n",
    "learning_rate = 3e-3\n",
    "weight_scale = 0.01\n",
    "lr_decay = 0.95\n",
    "dropout = 0.55\n",
    "update_rule = 'adam'\n",
    "\n",
    "# create FullyConnectedNet\n",
    "model = FullyConnectedNet(hidden_dims=hidden_dims, weight_scale=weight_scale, \n",
    "                          dropout=dropout, use_batchnorm=True, reg=0.0)\n",
    "\n",
    "# solve \n",
    "solver = Solver(model, data,\n",
    "              num_epochs=50, batch_size=100,\n",
    "              update_rule=update_rule,\n",
    "              optim_config={\n",
    "                'learning_rate': learning_rate,\n",
    "              },\n",
    "              lr_decay=lr_decay,\n",
    "              verbose=0, print_every=100)\n",
    "solver.train()\n",
    "\n",
    "# print out the validation accuracy\n",
    "y_test_pred = np.argmax(model.loss(data['X_test']), axis=1)\n",
    "y_val_pred = np.argmax(model.loss(data['X_val']), axis=1)\n",
    "print('Validation set accuracy: {}'.format(np.mean(y_val_pred == data['y_val'])))\n",
    "print('Test set accuracy: {}'.format(np.mean(y_test_pred == data['y_test'])))\n",
    "\n",
    "# ================================================================ #\n",
    "# END YOUR CODE HERE\n",
    "# ================================================================ #\n"
   ]
  },
  {
   "cell_type": "code",
   "execution_count": null,
   "metadata": {},
   "outputs": [],
   "source": []
  }
 ],
 "metadata": {
  "kernelspec": {
   "display_name": "Python 3",
   "language": "python",
   "name": "python3"
  },
  "language_info": {
   "codemirror_mode": {
    "name": "ipython",
    "version": 3
   },
   "file_extension": ".py",
   "mimetype": "text/x-python",
   "name": "python",
   "nbconvert_exporter": "python",
   "pygments_lexer": "ipython3",
   "version": "3.7.4"
  }
 },
 "nbformat": 4,
 "nbformat_minor": 2
}
